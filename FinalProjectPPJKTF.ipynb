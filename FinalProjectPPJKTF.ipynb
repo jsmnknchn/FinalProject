{
 "cells": [
  {
   "cell_type": "code",
   "execution_count": 1,
   "metadata": {
    "colab": {},
    "colab_type": "code",
    "id": "v8UKH-gZ0b4u"
   },
   "outputs": [],
   "source": [
    "#Import necessary modules\n",
    "import random\n",
    "from copy import copy\n",
    "import matplotlib.pyplot as plt\n",
    "import matplotlib.patches as mpatches\n",
    "import numpy as np\n",
    "import pandas as pd  "
   ]
  },
  {
   "cell_type": "code",
   "execution_count": 2,
   "metadata": {
    "colab": {},
    "colab_type": "code",
    "id": "OGKtDw530cA_"
   },
   "outputs": [],
   "source": [
    "#Define the individual class.\n",
    "\n",
    "#not sure if the list of different phenotypes should be used for individual or population \n",
    "#project says each population should have inidividuals with same phenotype \n",
    "colors = [\"red\", \"orange\", \"yellow\", \"green\", \"blue\", \"purple\"]\n",
    "\n",
    "class individual:\n",
    "    # Add a docstring     \n",
    "    def __init__(self,id =\"1\", x= \"0\",y= \"0\",colorNumber = 0): # Add default values and color phenotype.\n",
    "        # Add a docstring\n",
    "        self.id = id\n",
    "        self.x = x\n",
    "        self.y = y\n",
    "        self.colorNumber = colors[colorNumber]"
   ]
  },
  {
   "cell_type": "code",
   "execution_count": 3,
   "metadata": {
    "colab": {},
    "colab_type": "code",
    "id": "yGdQnK464vat"
   },
   "outputs": [],
   "source": [
    "#Define the population class.\n",
    "\n",
    "colors = [\"red\", \"orange\", \"yellow\", \"green\", \"blue\", \"purple\"]\n",
    "\n",
    "class population:\n",
    "  #add docstring\n",
    "  def __init__(self,id =\"1\",popSize = 20 ,colorNumber = 0): # Add default values and starting population size.\n",
    "        # Add a docstring\n",
    "        '''Function to create individuals and apply color'''\n",
    "        self.id = id\n",
    "        self.popSize = popSize\n",
    "        self.colorNumber = colors[colorNumber]\n",
    "        self.pop=[] #create list of individuals\n",
    "\n",
    "        for i in range(popSize):\n",
    "          #this will assign the population color to the individual color\n",
    "          if(i == 0):\n",
    "            newInd = individual(colorNumber = colorNumber) \n",
    "          else:\n",
    "            newInd = individual(id = i +1, colorNumber = colorNumber)  \n",
    "          self.pop.append(newInd) #or can i just call addInd function? \n",
    "\n",
    "\n",
    "\n",
    "  def addInd(self,newInd):\n",
    "      self.pop.append(newInd)\n",
    "  def removeInd(self,newInd):\n",
    "      self.pop.remove(newInd)\n",
    "\n",
    "#calculate and print the frequency of phenotypes among individuals.\n",
    "#Python program to count the frequency of  \n",
    "#individuals in a list using a dictionary \n",
    "  \n",
    "  def phenotypeFreq(self): #newPop or population. or self?\n",
    "    #Add doc string\n",
    "\n",
    "    #need to create a list to be _list that stores all the individual's colors \n",
    "\n",
    "    # Creating an empty dictionary  \n",
    "    freq = {} \n",
    "    for newInd in self.pop: \n",
    "        if newInd.colorNumber not in freq: #if color not already in dictionary add it with a count of 1 \n",
    "          freq.update({newInd.colorNumber:1})\n",
    "        elif newInd.colorNumber in freq: \n",
    "          freq[newInd.colorNumber] += 1 #increase number due to color occuring more than once \n",
    "  \n",
    "    for k, v in freq.items(): \n",
    "        print (\"% s : % d\"%(k, v)) \n",
    "\n",
    "    #need to take the values for all the keys and divide by the total number of individuals \n",
    "    #value / len(newPop.list)\n",
    "    for i in freq.keys():\n",
    "        phenFreq = freq[i] / len(self.pop)\n",
    "        print(\"Phenotype Color %s has a frequency of %f\" % (i,phenFreq))\n"
   ]
  },
  {
   "cell_type": "code",
   "execution_count": 4,
   "metadata": {
    "colab": {},
    "colab_type": "code",
    "id": "tQIAtrsA5A-Z"
   },
   "outputs": [],
   "source": [
    "#Define the landscape class.\n",
    "class landscape:\n",
    "  #add dosctring\n",
    "  def __init__(self,landscapeSize=3,dispersalMatrix = None): #Add default values.\n",
    "    # Add a docstring\n",
    "    '''Function to apply probablity of movement between populations'''\n",
    "    self.landscapeSize = landscapeSize\n",
    "    self.land=[] #create list of populations\n",
    "    self.dispersalMatrix = [[0.5,0.5,0.5],[0.5,0.5,0.5],\n",
    "                           [0.5,0.5,0.5]]\n",
    "\n",
    "    for i in range(landscapeSize): #for every population in the landscape\n",
    "        #create a a population object that will pick the color phenotype from the colors list\n",
    "        #when i has already used white, it will restart to red for the next population to be created \n",
    "      if i == 0:\n",
    "          newPop = population(colorNumber = i % len(colors)) \n",
    "      else:\n",
    "          newPop = population(id = i + 1, colorNumber = i % len(colors))  \n",
    "        \n",
    "      self.land.append(newPop)  #add the population just created into the landscape list with the populations\n",
    "    \n",
    "  def move(self):\n",
    "      for i in range(len(self.land)):\n",
    "          indRemoval = []\n",
    "          newPop = None\n",
    "          for ind in self.land[i].pop:\n",
    "              newPop = random.choices(self.land, weights = self.dispersalMatrix[i])[0]\n",
    "          if newPop != self.land[i]:\n",
    "              indRemoval.append(ind)\n",
    "          \n",
    "          for ind in indRemoval:\n",
    "              self.land[i].removeInd(ind)\n",
    "              newPop.addInd(ind)"
   ]
  },
  {
   "cell_type": "code",
   "execution_count": 5,
   "metadata": {
    "colab": {
     "base_uri": "https://localhost:8080/",
     "height": 221
    },
    "colab_type": "code",
    "id": "LYePL9Bo81QU",
    "outputId": "3f689e49-e3e2-4d08-9c0b-6d30d6b27d64"
   },
   "outputs": [
    {
     "name": "stdout",
     "output_type": "stream",
     "text": [
      "red :  20\n",
      "yellow :  1\n",
      "orange :  9\n",
      "Phenotype Color red has a frequency of 0.666667\n",
      "Phenotype Color yellow has a frequency of 0.033333\n",
      "Phenotype Color orange has a frequency of 0.300000\n",
      "orange :  11\n",
      "Phenotype Color orange has a frequency of 1.000000\n",
      "yellow :  19\n",
      "Phenotype Color yellow has a frequency of 1.000000\n"
     ]
    }
   ],
   "source": [
    "#test code here \n",
    "#class phenotypeFreq:\n",
    " # myLandscape = landscape()\n",
    "  #myLandscape.move()\n",
    " # def phenotypeFreq(self):\n",
    "   # for i in myLandscape.land:\n",
    "    # phenotypeFreq(myLandscape.land[i])\n",
    "    #random.shuffle(phenotypeFreq)\n",
    "\n",
    "myLandscape = landscape()\n",
    "for i in range(100):\n",
    "  myLandscape.move()\n",
    "\n",
    "for populationObj in myLandscape.land:\n",
    "    populationObj.phenotypeFreq()"
   ]
  },
  {
   "cell_type": "code",
   "execution_count": 27,
   "metadata": {
    "colab": {},
    "colab_type": "code",
    "id": "64rfnOGv-oJV"
   },
   "outputs": [],
   "source": [
    "#Code to create plots of phenotype frequencies that shows three different lines\n",
    "#for six different populations.\n",
    "\n",
    "Red = []\n",
    "Orange= []\n",
    "Yellow =[]\n",
    "Green = []\n",
    "Blue = []\n",
    "Purple = []\n",
    "Time=100 \n",
    "def newPop(): # Add necessary arguments\n",
    "        # Add a docstring\n",
    "        '''Function to plot population frequencies over time for six populations'''\n",
    "        for i in range(Time):\n",
    "          for i in land():\n",
    "            i.move()\n",
    "        plt.xlabel('Time') #creating x axis label\n",
    "        plt.ylabel('Phenotype Frequencies within that Population') #creating y axis label where it \n",
    "        plt.xticks(rotation=90)\n",
    "        plt.grid(True) #adding a grid\n",
    "        #Plotting 6 lines.\n",
    "        line1=plt.plot('time', 'Red', data=Red, color = 'r')\n",
    "        line2=plt.plot('time', 'Orange', data=Orange, color = 'o')\n",
    "        line3=plt.plot('time', 'Yellow', data=Yellow, color = 'y')\n",
    "        line4=plt.plot('time', 'Green', data=Green, color = 'g')\n",
    "        line5=plt.plot('time', 'Blue', data=Blue, color = 'b')\n",
    "        line6=plt.plot('time', 'Purple', data=Purple, color = 'p')\n",
    "        plt.set_xlim([0, gens]); plt.set_ylim([0, pop_size])\n",
    "        plt.show()"
   ]
  },
  {
   "cell_type": "code",
   "execution_count": 28,
   "metadata": {},
   "outputs": [
    {
     "ename": "NameError",
     "evalue": "name 'land' is not defined",
     "output_type": "error",
     "traceback": [
      "\u001b[0;31m---------------------------------------------------------------------------\u001b[0m",
      "\u001b[0;31mNameError\u001b[0m                                 Traceback (most recent call last)",
      "\u001b[0;32m<ipython-input-28-5080f245ce61>\u001b[0m in \u001b[0;36m<module>\u001b[0;34m()\u001b[0m\n\u001b[0;32m----> 1\u001b[0;31m \u001b[0mnewPop\u001b[0m\u001b[0;34m(\u001b[0m\u001b[0;34m)\u001b[0m\u001b[0;34m\u001b[0m\u001b[0m\n\u001b[0m",
      "\u001b[0;32m<ipython-input-27-5f4b26a7d6a2>\u001b[0m in \u001b[0;36mnewPop\u001b[0;34m()\u001b[0m\n\u001b[1;32m     13\u001b[0m         \u001b[0;34m'''Function to plot population frequencies over time for six populations'''\u001b[0m\u001b[0;34m\u001b[0m\u001b[0m\n\u001b[1;32m     14\u001b[0m         \u001b[0;32mfor\u001b[0m \u001b[0mi\u001b[0m \u001b[0;32min\u001b[0m \u001b[0mrange\u001b[0m\u001b[0;34m(\u001b[0m\u001b[0mTime\u001b[0m\u001b[0;34m)\u001b[0m\u001b[0;34m:\u001b[0m\u001b[0;34m\u001b[0m\u001b[0m\n\u001b[0;32m---> 15\u001b[0;31m           \u001b[0;32mfor\u001b[0m \u001b[0mi\u001b[0m \u001b[0;32min\u001b[0m \u001b[0mland\u001b[0m\u001b[0;34m(\u001b[0m\u001b[0;34m)\u001b[0m\u001b[0;34m:\u001b[0m\u001b[0;34m\u001b[0m\u001b[0m\n\u001b[0m\u001b[1;32m     16\u001b[0m             \u001b[0mi\u001b[0m\u001b[0;34m.\u001b[0m\u001b[0mmove\u001b[0m\u001b[0;34m(\u001b[0m\u001b[0;34m)\u001b[0m\u001b[0;34m\u001b[0m\u001b[0m\n\u001b[1;32m     17\u001b[0m         \u001b[0mplt\u001b[0m\u001b[0;34m.\u001b[0m\u001b[0mxlabel\u001b[0m\u001b[0;34m(\u001b[0m\u001b[0;34m'Time'\u001b[0m\u001b[0;34m)\u001b[0m \u001b[0;31m#creating x axis label\u001b[0m\u001b[0;34m\u001b[0m\u001b[0m\n",
      "\u001b[0;31mNameError\u001b[0m: name 'land' is not defined"
     ]
    }
   ],
   "source": [
    "newPop()"
   ]
  },
  {
   "cell_type": "code",
   "execution_count": 7,
   "metadata": {
    "colab": {},
    "colab_type": "code",
    "id": "53V6xaxNGRor"
   },
   "outputs": [],
   "source": [
    "#Code to create plots of population sizes that shows three different lines\n",
    "#for six different populations.\n",
    "\n",
    "Red = []\n",
    "Orange = []\n",
    "Yellow = []\n",
    "Green = []\n",
    "Blue = []\n",
    "Purple = []\n",
    "Time = 100\n",
    "\n",
    "def draw(self): #add arguments\n",
    "  #add docstring\n",
    "  '''Function to plot population sizes for three different populations'''\n",
    "  for i in self.individ: #loop to plot population sizes\n",
    "    plt.figure()\n",
    "  plt.xlabel('Time')\n",
    "  plt.ylabel('Population Size')\n",
    "  print('Minimum x axis:', xaxis.min())\n",
    "  print('Maximum x axis:', xaxis.max())\n",
    "  plt.xticks(rotation=90) #creating min and max for x axis \n",
    "  plt.grid(True)#adding grid\n",
    "  #plotting 6 lines\n",
    "  line1=plt.plot('time', 'Red', data=Red, color = 'r')\n",
    "  line2=plt.plot('time', 'Organge', data=Orange, color = 'o')\n",
    "  line3=plt.plot('time', 'Yellow', data=Yellow, color = 'y')\n",
    "  line4=plt.plot('time', 'Green', data=Green, color = 'g')\n",
    "  line5=plt.plot('time', 'Blue', data=Blue, color = 'b')\n",
    "  line6=plt.plot('time', 'Purple', data=Purple, color = 'p')\n",
    "  plt.show()\n"
   ]
  },
  {
   "cell_type": "markdown",
   "metadata": {},
   "source": [
    "# Questions:"
   ]
  },
  {
   "cell_type": "markdown",
   "metadata": {},
   "source": [
    "How do the frequencies of phenotypes change in each population week-by-week as\n",
    "individuals move?\n",
    "\n",
    "\n",
    "What effect does an overall increase in the rate of movement (migration) have?\n",
    "What happens to both phenotype frequencies and population sizes when movement\n",
    "probabilities are not symmetric (individuals have a higher probability of\n",
    "moving from population A to population B, than they do of moving from\n",
    "population B to population A)?\n",
    "\n",
    "\n",
    "\n",
    "What effect does changing the starting population sizes have on the trajectory of\n",
    "phenotype frequencies? In other words, what might happen if you connect big\n",
    "habitat patches versus small habitat patches?"
   ]
  }
 ],
 "metadata": {
  "colab": {
   "collapsed_sections": [],
   "name": "GroupProject.ipynb",
   "provenance": []
  },
  "kernelspec": {
   "display_name": "Python 3",
   "language": "python",
   "name": "python3"
  },
  "language_info": {
   "codemirror_mode": {
    "name": "ipython",
    "version": 3
   },
   "file_extension": ".py",
   "mimetype": "text/x-python",
   "name": "python",
   "nbconvert_exporter": "python",
   "pygments_lexer": "ipython3",
   "version": "3.6.4"
  }
 },
 "nbformat": 4,
 "nbformat_minor": 1
}
